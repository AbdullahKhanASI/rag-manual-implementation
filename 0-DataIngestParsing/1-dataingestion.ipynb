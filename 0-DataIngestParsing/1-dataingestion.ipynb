{
 "cells": [
  {
   "cell_type": "code",
   "execution_count": 1,
   "id": "1abb1195",
   "metadata": {},
   "outputs": [],
   "source": [
    "import os\n",
    "from typing import List, Dict, Any\n",
    "import pandas as pd"
   ]
  },
  {
   "cell_type": "code",
   "execution_count": 4,
   "id": "21002db0",
   "metadata": {},
   "outputs": [
    {
     "name": "stdout",
     "output_type": "stream",
     "text": [
      "All libraries imported!\n"
     ]
    }
   ],
   "source": [
    "from langchain_core.documents import Document\n",
    "from langchain.text_splitter import (\n",
    "    RecursiveCharacterTextSplitter,\n",
    "    CharacterTextSplitter,\n",
    "    TokenTextSplitter\n",
    ")\n",
    "\n",
    "print(\"All libraries imported!\")"
   ]
  },
  {
   "cell_type": "markdown",
   "id": "c1a7dcb7",
   "metadata": {},
   "source": [
    "### Understanding Document Structure in LangChain"
   ]
  },
  {
   "cell_type": "code",
   "execution_count": null,
   "id": "081c0fb5",
   "metadata": {},
   "outputs": [],
   "source": [
    "## Create a simple document\n",
    "doc = Document(\n",
    "    page_content=\"This is the main text content that will be embedded and searched.\",\n",
    "    metadata={\n",
    "        \"source\":\"example.txt\",\n",
    "        \"page\":1,\n",
    "        \"author\":\"Abdullah Khan\",\n",
    "        \"date_created\":\"2025-01-01\",\n",
    "        \"custom_field\":\"any_value\"\n",
    "    }\n",
    ")"
   ]
  },
  {
   "cell_type": "code",
   "execution_count": 34,
   "id": "a669fe48",
   "metadata": {},
   "outputs": [
    {
     "name": "stdout",
     "output_type": "stream",
     "text": [
      "Document Structure\n",
      "Content: Machine Learning Basics\n",
      "\n",
      "Machine learning is a subset of artificial intelligence that enables systems to learn and improve\n",
      "from experience without being explicitly programmed. It focuses on developing computer programs\n",
      "that can access data and use it to learn for themselves.\n",
      "\n",
      "Types of Machine Learning:\n",
      "1. Supervised Learning: Learning with labeled data\n",
      "2. Unsupervised Learning: Finding patterns in unlabeled data\n",
      "3. Reinforcement Learning: Learning through rewards and penalties\n",
      "\n",
      "Applications include image recognition, speech processing, and recommendation systems\n",
      "\n",
      "\n",
      "    \n",
      "Metadata: {'source': 'data/text_files/machine_learning.txt'}\n",
      "\n",
      "📝 Metadata is crucial for:\n",
      "- Filtering search results\n",
      "- Tracking document sources\n",
      "- Providing context in responses\n",
      "- Debugging and auditing\n"
     ]
    }
   ],
   "source": [
    "print(\"Document Structure\")\n",
    "\n",
    "print(f\"Content: {doc.page_content}\")\n",
    "print(f\"Metadata: {doc.metadata}\")\n",
    "\n",
    "# Why metadata matters:\n",
    "print(\"\\n📝 Metadata is crucial for:\")\n",
    "print(\"- Filtering search results\")\n",
    "print(\"- Tracking document sources\")\n",
    "print(\"- Providing context in responses\")\n",
    "print(\"- Debugging and auditing\")"
   ]
  },
  {
   "cell_type": "code",
   "execution_count": 33,
   "id": "0406200d",
   "metadata": {},
   "outputs": [
    {
     "data": {
      "text/plain": [
       "langchain_core.documents.base.Document"
      ]
     },
     "execution_count": 33,
     "metadata": {},
     "output_type": "execute_result"
    }
   ],
   "source": [
    "type(doc)"
   ]
  },
  {
   "cell_type": "markdown",
   "id": "a3df4f90",
   "metadata": {},
   "source": [
    "## Text files (.txt)"
   ]
  },
  {
   "cell_type": "markdown",
   "id": "7df52df6",
   "metadata": {},
   "source": [
    "### TextLoader - Read single file"
   ]
  },
  {
   "cell_type": "code",
   "execution_count": 12,
   "id": "12c159dd",
   "metadata": {},
   "outputs": [
    {
     "data": {
      "text/plain": [
       "<langchain_community.document_loaders.text.TextLoader at 0x1088bddc0>"
      ]
     },
     "execution_count": 12,
     "metadata": {},
     "output_type": "execute_result"
    }
   ],
   "source": [
    "from langchain.document_loaders import TextLoader\n",
    "from langchain_community.document_loaders import TextLoader\n",
    "\n",
    "## Loading python_intro file\n",
    "loader = TextLoader(\"data/text_files/python_intro.txt\", encoding=\"utf-8\")\n",
    "\n",
    "loader"
   ]
  },
  {
   "cell_type": "code",
   "execution_count": 14,
   "id": "5f8aaa58",
   "metadata": {},
   "outputs": [
    {
     "name": "stdout",
     "output_type": "stream",
     "text": [
      "<class 'list'>\n",
      "[Document(metadata={'source': 'data/text_files/python_intro.txt'}, page_content='Python Programming Introduction\\n\\nPython is a high-level, interpreted programming language known for its simplicity and readability.\\nCreated by Guido van Rossum and first released in 1991, Python has become one of the most popular\\nprogramming languages in the world.\\n\\nKey Features:\\n- Easy to learn and use\\n- Extensive standard library\\n- Cross-platform compatibility\\n- Strong community support\\n\\nPython is widely used in web development, data science, artificial intelligence, and automation.')]\n"
     ]
    }
   ],
   "source": [
    "documents = loader.load()\n",
    "print(type(documents))\n",
    "print(documents)"
   ]
  },
  {
   "cell_type": "code",
   "execution_count": 15,
   "id": "72729632",
   "metadata": {},
   "outputs": [
    {
     "name": "stdout",
     "output_type": "stream",
     "text": [
      "Loaded: 1 documents\n",
      "Content preview: Python Programming Introduction\n",
      "\n",
      "Python is a high-level, interpreted programming language known for ...\n",
      "Metadata: {'source': 'data/text_files/python_intro.txt'}\n"
     ]
    }
   ],
   "source": [
    "print(f\"Loaded: {len(documents)} documents\")\n",
    "print(f\"Content preview: {documents[0].page_content[:100]}...\")\n",
    "print(f\"Metadata: {documents[0].metadata}\")"
   ]
  },
  {
   "cell_type": "markdown",
   "id": "572214f7",
   "metadata": {},
   "source": [
    "### DirectoryLoader - Multiple text files"
   ]
  },
  {
   "cell_type": "code",
   "execution_count": 35,
   "id": "8ca02acc",
   "metadata": {},
   "outputs": [
    {
     "name": "stderr",
     "output_type": "stream",
     "text": [
      "100%|██████████| 2/2 [00:00<00:00, 350.28it/s]"
     ]
    },
    {
     "name": "stdout",
     "output_type": "stream",
     "text": [
      "Loaded 2 documents\n",
      "\n",
      "Document 1:\n",
      "  Source: data/text_files/python_intro.txt\n",
      "  Length: 489 characters\n",
      "\n",
      "Document 2:\n",
      "  Source: data/text_files/machine_learning.txt\n",
      "  Length: 575 characters\n"
     ]
    },
    {
     "name": "stderr",
     "output_type": "stream",
     "text": [
      "\n"
     ]
    }
   ],
   "source": [
    "from langchain_community.document_loaders import DirectoryLoader\n",
    "\n",
    "## load all the text files from the directory\n",
    "dir_loader = DirectoryLoader(\n",
    "    \"data/text_files\",\n",
    "    glob=\"**/*.txt\",\n",
    "    loader_cls=TextLoader,\n",
    "    loader_kwargs={\"encoding\":\"utf-8\"},\n",
    "    show_progress=True\n",
    ")\n",
    "\n",
    "documents = dir_loader.load()\n",
    "\n",
    "print(f\"Loaded {len(documents)} documents\")\n",
    "for i, doc in enumerate(documents):\n",
    "    print(f\"\\nDocument {i+1}:\")\n",
    "    print(f\"  Source: {doc.metadata['source']}\")\n",
    "    print(f\"  Length: {len(doc.page_content)} characters\")"
   ]
  },
  {
   "cell_type": "code",
   "execution_count": 36,
   "id": "ccfc7e7c",
   "metadata": {},
   "outputs": [
    {
     "name": "stdout",
     "output_type": "stream",
     "text": [
      "\n",
      "📊 DirectoryLoader Characteristics:\n",
      "✅ Advantages:\n",
      "  - Loads multiple files at once\n",
      "  - Supports glob patterns\n",
      "  - Progress tracking\n",
      "  - Recursive directory scanning\n",
      "\n",
      "❌ Disadvantages:\n",
      "  - All files must be same type\n",
      "  - Limited error handling per file\n",
      "  - Can be memory intensive for large directories\n"
     ]
    }
   ],
   "source": [
    "print(\"\\n📊 DirectoryLoader Characteristics:\")\n",
    "print(\"✅ Advantages:\")\n",
    "print(\"  - Loads multiple files at once\")\n",
    "print(\"  - Supports glob patterns\")\n",
    "print(\"  - Progress tracking\")\n",
    "print(\"  - Recursive directory scanning\")\n",
    "\n",
    "print(\"\\n❌ Disadvantages:\")\n",
    "print(\"  - All files must be same type\")\n",
    "print(\"  - Limited error handling per file\")\n",
    "print(\"  - Can be memory intensive for large directories\")"
   ]
  },
  {
   "cell_type": "markdown",
   "id": "d03067ff",
   "metadata": {},
   "source": [
    "## Text Splitting Strategies"
   ]
  },
  {
   "cell_type": "code",
   "execution_count": 17,
   "id": "2fad43c4",
   "metadata": {},
   "outputs": [],
   "source": [
    "### Different Splitting techniques\n",
    "from langchain.text_splitter import (\n",
    "    RecursiveCharacterTextSplitter,\n",
    "    CharacterTextSplitter,\n",
    "    TokenTextSplitter\n",
    ")"
   ]
  },
  {
   "cell_type": "code",
   "execution_count": 23,
   "id": "38ba56a2",
   "metadata": {},
   "outputs": [
    {
     "name": "stdout",
     "output_type": "stream",
     "text": [
      "1. CharacterTextSplitter\n",
      "Create 3 chunks\n",
      "First chunk: Python Programming Introduction\n",
      "Python is a high-level, interpreted programming language known for i\n"
     ]
    }
   ],
   "source": [
    "### Method 1 - Character Text Splitter\n",
    "text = documents[0].page_content\n",
    "print(\"1. CharacterTextSplitter\")\n",
    "char_splitter = CharacterTextSplitter(\n",
    "    separator=\"\\n\",\n",
    "    chunk_size=200,\n",
    "    chunk_overlap=20,\n",
    "    length_function=len\n",
    ")\n",
    "\n",
    "char_chunks = char_splitter.split_text(text)\n",
    "print(f\"Create {len(char_chunks)} chunks\")\n",
    "print(f\"First chunk: {char_chunks[0][:100]}\")"
   ]
  },
  {
   "cell_type": "code",
   "execution_count": 24,
   "id": "4371a75d",
   "metadata": {},
   "outputs": [
    {
     "name": "stdout",
     "output_type": "stream",
     "text": [
      "Python Programming Introduction\n",
      "Python is a high-level, interpreted programming language known for its simplicity and readability.\n",
      "_________\n",
      "Created by Guido van Rossum and first released in 1991, Python has become one of the most popular\n",
      "programming languages in the world.\n",
      "Key Features:\n",
      "- Easy to learn and use\n",
      "- Extensive standard library\n"
     ]
    }
   ],
   "source": [
    "print(char_chunks[0])\n",
    "print(\"_________\")\n",
    "print(char_chunks[1])"
   ]
  },
  {
   "cell_type": "code",
   "execution_count": 28,
   "id": "39ad564a",
   "metadata": {},
   "outputs": [
    {
     "name": "stdout",
     "output_type": "stream",
     "text": [
      "2. RecursiveCharacterTextSplitter\n",
      "Create 3 chunks\n",
      "First chunk: Python Programming Introduction\n",
      "\n",
      "Python is a high-level, interpreted programming language known for \n"
     ]
    }
   ],
   "source": [
    "### Method 2 - Recursive Character Text Splitter\n",
    "text = documents[0].page_content\n",
    "print(\"2. RecursiveCharacterTextSplitter\")\n",
    "recursive_splitter = RecursiveCharacterTextSplitter(\n",
    "    separators=[\"\\n\", \" \", \"\"],\n",
    "    chunk_size=200,\n",
    "    chunk_overlap=20,\n",
    "    length_function=len\n",
    ")\n",
    "\n",
    "char_chunks = recursive_splitter.split_text(text)\n",
    "print(f\"Create {len(char_chunks)} chunks\")\n",
    "print(f\"First chunk: {char_chunks[0][:100]}\")"
   ]
  },
  {
   "cell_type": "code",
   "execution_count": 29,
   "id": "0d81d1dc",
   "metadata": {},
   "outputs": [
    {
     "name": "stdout",
     "output_type": "stream",
     "text": [
      "Python Programming Introduction\n",
      "\n",
      "Python is a high-level, interpreted programming language known for its simplicity and readability.\n",
      "_________\n",
      "Created by Guido van Rossum and first released in 1991, Python has become one of the most popular\n",
      "programming languages in the world.\n",
      "\n",
      "Key Features:\n",
      "- Easy to learn and use\n",
      "_________\n",
      "- Extensive standard library\n",
      "- Cross-platform compatibility\n",
      "- Strong community support\n",
      "\n",
      "Python is widely used in web development, data science, artificial intelligence, and automation.\n"
     ]
    }
   ],
   "source": [
    "print(char_chunks[0])\n",
    "print(\"_________\")\n",
    "print(char_chunks[1])\n",
    "print(\"_________\")\n",
    "print(char_chunks[2])"
   ]
  },
  {
   "cell_type": "code",
   "execution_count": null,
   "id": "ba7509e1",
   "metadata": {},
   "outputs": [
    {
     "name": "stdout",
     "output_type": "stream",
     "text": [
      "2. RecursiveCharacterTextSplitter\n",
      "Chunk 1: 'Python Programming Introduction\n",
      "\n",
      "Python is a high-level, interpreted programming'\n",
      "Chunk 2: 'programming language known for its simplicity and readability.\n",
      "Created by Guido'\n",
      "\n",
      "Chunk 2: 'programming language known for its simplicity and readability.\n",
      "Created by Guido'\n",
      "Chunk 3: 'by Guido van Rossum and first released in 1991, Python has become one of the'\n",
      "\n",
      "Chunk 3: 'by Guido van Rossum and first released in 1991, Python has become one of the'\n",
      "Chunk 4: 'become one of the most popular\n",
      "programming languages in the world.\n",
      "\n",
      "Key'\n",
      "\n",
      "Chunk 4: 'become one of the most popular\n",
      "programming languages in the world.\n",
      "\n",
      "Key'\n",
      "Chunk 5: 'in the world.\n",
      "\n",
      "Key Features:\n",
      "- Easy to learn and use\n",
      "- Extensive standard'\n",
      "\n",
      "Chunk 5: 'in the world.\n",
      "\n",
      "Key Features:\n",
      "- Easy to learn and use\n",
      "- Extensive standard'\n",
      "Chunk 6: 'Extensive standard library\n",
      "- Cross-platform compatibility\n",
      "- Strong community'\n",
      "\n",
      "Chunk 6: 'Extensive standard library\n",
      "- Cross-platform compatibility\n",
      "- Strong community'\n",
      "Chunk 7: 'Strong community support\n",
      "\n",
      "Python is widely used in web development, data'\n",
      "\n",
      "Chunk 7: 'Strong community support\n",
      "\n",
      "Python is widely used in web development, data'\n",
      "Chunk 8: 'development, data science, artificial intelligence, and automation.'\n",
      "\n"
     ]
    }
   ],
   "source": [
    "## Create text without natural breakpoints\n",
    "text = documents[0].page_content\n",
    "print(\"2. RecursiveCharacterTextSplitter\")\n",
    "recursive_splitter = RecursiveCharacterTextSplitter(\n",
    "    separators=[\" \"],\n",
    "    chunk_size=80,\n",
    "    chunk_overlap=20,\n",
    "    length_function=len\n",
    ")\n",
    "\n",
    "char_chunks = recursive_splitter.split_text(text)\n",
    "for i in range(len(char_chunks) - 1):\n",
    "    print(f\"Chunk {i+1}: '{char_chunks[i]}'\")\n",
    "    print(f\"Chunk {i+2}: '{char_chunks[i+1]}'\")\n",
    "    print()\n",
    "    "
   ]
  },
  {
   "cell_type": "code",
   "execution_count": 31,
   "id": "c9a3bbd4",
   "metadata": {},
   "outputs": [
    {
     "name": "stdout",
     "output_type": "stream",
     "text": [
      "Python Programming Introduction\n",
      "\n",
      "Python is a high-level, interpreted programming language known for its simplicity and readability.\n",
      "Created by Guido van Rossum and first released in 1991, Python has become one of the most popular\n",
      "programming languages in\n",
      " one of the most popular\n",
      "programming languages in the world.\n",
      "\n",
      "Key Features:\n",
      "- Easy to learn and use\n",
      "- Extensive standard library\n",
      "- Cross-platform compatibility\n",
      "- Strong community support\n",
      "\n",
      "Python is widely used in web\n"
     ]
    }
   ],
   "source": [
    "### TokenTextSplitter\n",
    "text = documents[0].page_content\n",
    "token_splitter = TokenTextSplitter(\n",
    "    chunk_size=50,\n",
    "    chunk_overlap=10\n",
    ")\n",
    "\n",
    "char_chunks = token_splitter.split_text(text)\n",
    "\n",
    "print(char_chunks[0])\n",
    "print(char_chunks[1])"
   ]
  },
  {
   "cell_type": "code",
   "execution_count": 37,
   "id": "1f50b951",
   "metadata": {},
   "outputs": [
    {
     "name": "stdout",
     "output_type": "stream",
     "text": [
      "\n",
      "📊 Text Splitting Methods Comparison:\n",
      "\n",
      "CharacterTextSplitter:\n",
      "  ✅ Simple and predictable\n",
      "  ✅ Good for structured text\n",
      "  ❌ May break mid-sentence\n",
      "  Use when: Text has clear delimiters\n",
      "\n",
      "RecursiveCharacterTextSplitter:\n",
      "  ✅ Respects text structure\n",
      "  ✅ Tries multiple separators\n",
      "  ✅ Best general-purpose splitter\n",
      "  ❌ Slightly more complex\n",
      "  Use when: Default choice for most texts\n",
      "\n",
      "TokenTextSplitter:\n",
      "  ✅ Respects model token limits\n",
      "  ✅ More accurate for embeddings\n",
      "  ❌ Slower than character-based\n",
      "  Use when: Working with token-limited models\n"
     ]
    }
   ],
   "source": [
    "# 📊 Comparison\n",
    "print(\"\\n📊 Text Splitting Methods Comparison:\")\n",
    "print(\"\\nCharacterTextSplitter:\")\n",
    "print(\"  ✅ Simple and predictable\")\n",
    "print(\"  ✅ Good for structured text\")\n",
    "print(\"  ❌ May break mid-sentence\")\n",
    "print(\"  Use when: Text has clear delimiters\")\n",
    "\n",
    "print(\"\\nRecursiveCharacterTextSplitter:\")\n",
    "print(\"  ✅ Respects text structure\")\n",
    "print(\"  ✅ Tries multiple separators\")\n",
    "print(\"  ✅ Best general-purpose splitter\")\n",
    "print(\"  ❌ Slightly more complex\")\n",
    "print(\"  Use when: Default choice for most texts\")\n",
    "\n",
    "print(\"\\nTokenTextSplitter:\")\n",
    "print(\"  ✅ Respects model token limits\")\n",
    "print(\"  ✅ More accurate for embeddings\")\n",
    "print(\"  ❌ Slower than character-based\")\n",
    "print(\"  Use when: Working with token-limited models\")"
   ]
  }
 ],
 "metadata": {
  "kernelspec": {
   "display_name": ".venv",
   "language": "python",
   "name": "python3"
  },
  "language_info": {
   "codemirror_mode": {
    "name": "ipython",
    "version": 3
   },
   "file_extension": ".py",
   "mimetype": "text/x-python",
   "name": "python",
   "nbconvert_exporter": "python",
   "pygments_lexer": "ipython3",
   "version": "3.12.7"
  }
 },
 "nbformat": 4,
 "nbformat_minor": 5
}
