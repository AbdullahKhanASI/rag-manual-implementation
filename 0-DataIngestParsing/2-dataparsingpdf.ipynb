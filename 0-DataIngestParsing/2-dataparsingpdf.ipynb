{
 "cells": [
  {
   "cell_type": "markdown",
   "id": "0b674d0e",
   "metadata": {},
   "source": [
    "## Load PDF files"
   ]
  },
  {
   "cell_type": "code",
   "execution_count": 1,
   "id": "20c21095",
   "metadata": {},
   "outputs": [],
   "source": [
    "from langchain_community.document_loaders import (\n",
    "    PyPDFLoader,\n",
    "    PyMuPDFLoader,\n",
    "    UnstructuredPDFLoader\n",
    ")"
   ]
  },
  {
   "cell_type": "code",
   "execution_count": null,
   "id": "43f5741e",
   "metadata": {},
   "outputs": [
    {
     "name": "stdout",
     "output_type": "stream",
     "text": [
      "PyPDFLoader\n",
      "Document loaded successfully ✅\n",
      "Pages loaded: 15\n",
      "Content: Provided proper attribution is provided, Google he...\n",
      "Metadata: {'producer': 'pdfTeX-1.40.25', 'creator': 'LaTeX with hyperref', 'creationdate': '2024-04-10T21:11:43+00:00', 'author': '', 'keywords': '', 'moddate': '2024-04-10T21:11:43+00:00', 'ptex.fullbanner': 'This is pdfTeX, Version 3.141592653-2.6-1.40.25 (TeX Live 2023) kpathsea version 6.3.5', 'subject': '', 'title': '', 'trapped': '/False', 'source': 'data/pdf/attention.pdf', 'total_pages': 15, 'page': 0, 'page_label': '1'}\n"
     ]
    }
   ],
   "source": [
    "### PyPDFLoader\n",
    "print(\"PyPDFLoader\")\n",
    "\n",
    "try:\n",
    "    pypdf_loader = PyPDFLoader(\n",
    "        \"data/pdf/attention.pdf\"\n",
    "    )\n",
    "    pypdf_docs = pypdf_loader.load()\n",
    "    print(\"Document loaded successfully ✅\")\n",
    "    print(f\"Pages loaded: {len(pypdf_docs)}\")\n",
    "    print(f\"Content: {pypdf_docs[0].page_content[:50]}...\")\n",
    "    print(f\"Metadata: {pypdf_docs[0].metadata}\")\n",
    "except Exception as e:\n",
    "    print(f\"Error: {e}\")"
   ]
  },
  {
   "cell_type": "code",
   "execution_count": 8,
   "id": "90fbe17e",
   "metadata": {},
   "outputs": [
    {
     "name": "stdout",
     "output_type": "stream",
     "text": [
      "PyMuPDFLoader\n",
      "Document loaded successfully ✅\n",
      "Pages loaded: 15\n",
      "Content: Provided proper attribution is provided, Google he...\n",
      "Metadata: {'producer': 'pdfTeX-1.40.25', 'creator': 'LaTeX with hyperref', 'creationdate': '2024-04-10T21:11:43+00:00', 'source': 'data/pdf/attention.pdf', 'file_path': 'data/pdf/attention.pdf', 'total_pages': 15, 'format': 'PDF 1.5', 'title': '', 'author': '', 'subject': '', 'keywords': '', 'moddate': '2024-04-10T21:11:43+00:00', 'trapped': '', 'modDate': 'D:20240410211143Z', 'creationDate': 'D:20240410211143Z', 'page': 0}\n"
     ]
    }
   ],
   "source": [
    "### PyMuPDFLoader\n",
    "print(\"PyMuPDFLoader\")\n",
    "\n",
    "try:\n",
    "    pymupdf_loader = PyMuPDFLoader(\n",
    "        \"data/pdf/attention.pdf\"\n",
    "    )\n",
    "    pymupdf_docs = pymupdf_loader.load()\n",
    "    print(\"Document loaded successfully ✅\")\n",
    "    print(f\"Pages loaded: {len(pymupdf_docs)}\")\n",
    "    print(f\"Content: {pymupdf_docs[0].page_content[:50]}...\")\n",
    "    print(f\"Metadata: {pymupdf_docs[0].metadata}\")\n",
    "except Exception as e:\n",
    "    print(f\"Error: {e}\")"
   ]
  },
  {
   "cell_type": "code",
   "execution_count": 9,
   "id": "e6852911",
   "metadata": {},
   "outputs": [
    {
     "name": "stdout",
     "output_type": "stream",
     "text": [
      "\n",
      "📊 PDF Loader Comparison:\n",
      "\n",
      "PyPDFLoader:\n",
      "  ✅ Simple and reliable\n",
      "  ✅ Good for most PDFs\n",
      "  ✅ Preserves page numbers\n",
      "  ❌ Basic text extraction\n",
      "  Use when: Standard text PDFs\n",
      "\n",
      "PyMuPDFLoader:\n",
      "  ✅ Fast processing\n",
      "  ✅ Good text extraction\n",
      "  ✅ Image extraction support\n",
      "  Use when: Speed is important\n"
     ]
    }
   ],
   "source": [
    "# 📊 PDF Loader Comparison\n",
    "print(\"\\n📊 PDF Loader Comparison:\")\n",
    "print(\"\\nPyPDFLoader:\")\n",
    "print(\"  ✅ Simple and reliable\")\n",
    "print(\"  ✅ Good for most PDFs\")\n",
    "print(\"  ✅ Preserves page numbers\")\n",
    "print(\"  ❌ Basic text extraction\")\n",
    "print(\"  Use when: Standard text PDFs\")\n",
    "\n",
    "print(\"\\nPyMuPDFLoader:\")\n",
    "print(\"  ✅ Fast processing\")\n",
    "print(\"  ✅ Good text extraction\")\n",
    "print(\"  ✅ Image extraction support\")\n",
    "print(\"  Use when: Speed is important\")"
   ]
  },
  {
   "cell_type": "markdown",
   "id": "2e2a2cf9",
   "metadata": {},
   "source": [
    "## Handling PDF Challenges \n",
    "🎯 Purpose of This Section\n",
    "PDFs are notoriously difficult to parse because they:\n",
    "\n",
    "- Store text in complex ways (not just simple text)\n",
    "- Can have formatting issues\n",
    "- May contain scanned images (requiring OCR)\n",
    "- Often have extraction artifacts"
   ]
  },
  {
   "cell_type": "code",
   "execution_count": 10,
   "id": "a5227dc1",
   "metadata": {},
   "outputs": [
    {
     "name": "stdout",
     "output_type": "stream",
     "text": [
      "BEFORE:\n",
      "\"Company Financial Report\\n\\n\\n    The ﬁnancial performance for ﬁscal year 2024\\n    shows signiﬁcant growth in proﬁtability.\\n\\n\\n\\n    Revenue increased by 25%.\\n\\nThe company's efﬁciency improved due to workﬂow\\noptimization.\\n\\n\\nPage 1 of 10\\n\"\n",
      "\n",
      "AFTER:\n",
      "\"Company Financial Report The financial performance for fiscal year 2024 shows significant growth in profitability. Revenue increased by 25%. The company's efficiency improved due to workflow optimization. Page 1 of 10\"\n"
     ]
    }
   ],
   "source": [
    "# Example of raw PDF extraction\n",
    "raw_pdf_text = \"\"\"Company Financial Report\n",
    "\n",
    "\n",
    "    The ﬁnancial performance for ﬁscal year 2024\n",
    "    shows signiﬁcant growth in proﬁtability.\n",
    "    \n",
    "    \n",
    "    \n",
    "    Revenue increased by 25%.\n",
    "    \n",
    "The company's efﬁciency improved due to workﬂow\n",
    "optimization.\n",
    "\n",
    "\n",
    "Page 1 of 10\n",
    "\"\"\"\n",
    "\n",
    "# Apply the cleaning function\n",
    "def clean_text(text):\n",
    "    # Remove excessive whitespace\n",
    "    text = \" \".join(text.split())\n",
    "    \n",
    "    # Fix ligatures\n",
    "    text = text.replace(\"ﬁ\", \"fi\")\n",
    "    text = text.replace(\"ﬂ\", \"fl\")\n",
    "    \n",
    "    return text\n",
    "\n",
    "cleaned = clean_text(raw_pdf_text)\n",
    "print(\"BEFORE:\")\n",
    "print(repr(raw_pdf_text))\n",
    "print(\"\\nAFTER:\")\n",
    "print(repr(cleaned))\n",
    "\n",
    "# Output:\n",
    "# BEFORE:\n",
    "# 'Company Financial Report\\n\\n\\n    The ﬁnancial performance for ﬁscal year 2024\\n    shows signiﬁcan'\n",
    "# \n",
    "# AFTER:\n",
    "# 'Company Financial Report The financial performance for fiscal year 2024 shows significant growth in'"
   ]
  },
  {
   "cell_type": "code",
   "execution_count": 11,
   "id": "82f37d37",
   "metadata": {},
   "outputs": [],
   "source": [
    "from langchain_community.document_loaders import PyPDFLoader\n",
    "from langchain.text_splitter import RecursiveCharacterTextSplitter"
   ]
  },
  {
   "cell_type": "code",
   "execution_count": 12,
   "id": "96f8c567",
   "metadata": {},
   "outputs": [],
   "source": [
    "from langchain_core.documents import Document\n",
    "from typing import List\n",
    "class SmartPDFProcessor:\n",
    "    \"\"\"Advanced PDF processing with error handling\"\"\"\n",
    "    def __init__(self,chunk_size=1000,chunk_overlap=100):\n",
    "        self.chunk_size=chunk_size,\n",
    "        self.chunk_overlap=chunk_overlap,\n",
    "        self.text_splitter=RecursiveCharacterTextSplitter(\n",
    "            chunk_size=chunk_size,\n",
    "            chunk_overlap=chunk_overlap,\n",
    "            separators=[\" \"],\n",
    "\n",
    "        )\n",
    "\n",
    "    def process_pdf(self,pdf_path:str)->List[Document]:\n",
    "        \"\"\"Process PDF with smart chunking and metadata enhancement\"\"\"\n",
    "\n",
    "        # Laod PDF\n",
    "\n",
    "        loader=PyPDFLoader(pdf_path)\n",
    "        pages=loader.load()\n",
    "\n",
    "        ## Process each page\n",
    "\n",
    "        processed_chunks=[]\n",
    "\n",
    "        for page_num,page in enumerate(pages):\n",
    "            ## clean text\n",
    "            cleaned_text=self._clean_text(page.page_content)\n",
    "\n",
    "            # Skip nearly empty pages\n",
    "            if len(cleaned_text.strip()) < 50:\n",
    "                continue\n",
    "\n",
    "            # Create chunks with enhanced metadata\n",
    "            chunks = self.text_splitter.create_documents(\n",
    "                texts=[cleaned_text],\n",
    "                metadatas=[{\n",
    "                    **page.metadata,\n",
    "                    \"page\": page_num + 1,\n",
    "                    \"total_pages\": len(pages),\n",
    "                    \"chunk_method\": \"smart_pdf_processor\",\n",
    "                    \"char_count\": len(cleaned_text)\n",
    "                }]\n",
    "            )\n",
    "            \n",
    "            processed_chunks.extend(chunks)\n",
    "\n",
    "        return processed_chunks\n",
    "\n",
    "    def _clean_text(self, text: str) -> str:\n",
    "        \"\"\"Clean extracted text\"\"\"\n",
    "        # Remove excessive whitespace\n",
    "        text = \" \".join(text.split())\n",
    "        \n",
    "        # Fix common PDF extraction issues\n",
    "        text = text.replace(\"ﬁ\", \"fi\")\n",
    "        text = text.replace(\"ﬂ\", \"fl\")\n",
    "        \n",
    "        return text"
   ]
  },
  {
   "cell_type": "code",
   "execution_count": 13,
   "id": "b88f8f01",
   "metadata": {},
   "outputs": [],
   "source": [
    "preprocessor=SmartPDFProcessor()"
   ]
  },
  {
   "cell_type": "code",
   "execution_count": 14,
   "id": "da041ab1",
   "metadata": {},
   "outputs": [
    {
     "data": {
      "text/plain": [
       "<__main__.SmartPDFProcessor at 0x10fc75f70>"
      ]
     },
     "execution_count": 14,
     "metadata": {},
     "output_type": "execute_result"
    }
   ],
   "source": [
    "preprocessor"
   ]
  },
  {
   "cell_type": "code",
   "execution_count": 15,
   "id": "fa834292",
   "metadata": {},
   "outputs": [
    {
     "name": "stdout",
     "output_type": "stream",
     "text": [
      "Processed into 49 smart chunks\n",
      "\n",
      "Sample chunk metadata:\n",
      "  producer: pdfTeX-1.40.25\n",
      "  creator: LaTeX with hyperref\n",
      "  creationdate: 2024-04-10T21:11:43+00:00\n",
      "  author: \n",
      "  keywords: \n",
      "  moddate: 2024-04-10T21:11:43+00:00\n",
      "  ptex.fullbanner: This is pdfTeX, Version 3.141592653-2.6-1.40.25 (TeX Live 2023) kpathsea version 6.3.5\n",
      "  subject: \n",
      "  title: \n",
      "  trapped: /False\n",
      "  source: data/pdf/attention.pdf\n",
      "  total_pages: 15\n",
      "  page: 1\n",
      "  page_label: 1\n",
      "  chunk_method: smart_pdf_processor\n",
      "  char_count: 2857\n"
     ]
    }
   ],
   "source": [
    "## Process a PDF if available\n",
    "try:\n",
    "    smart_chunks=preprocessor.process_pdf(\"data/pdf/attention.pdf\")\n",
    "    print(f\"Processed into {len(smart_chunks)} smart chunks\")\n",
    "\n",
    "    # Show enhanced metadata\n",
    "    if smart_chunks:\n",
    "        print(\"\\nSample chunk metadata:\")\n",
    "        for key, value in smart_chunks[0].metadata.items():\n",
    "            print(f\"  {key}: {value}\")\n",
    "\n",
    "except Exception as e:\n",
    "    print(f\"Processing error: {e}\")"
   ]
  },
  {
   "cell_type": "code",
   "execution_count": null,
   "id": "108c41d5",
   "metadata": {},
   "outputs": [],
   "source": [
    " "
   ]
  }
 ],
 "metadata": {
  "kernelspec": {
   "display_name": ".venv",
   "language": "python",
   "name": "python3"
  },
  "language_info": {
   "codemirror_mode": {
    "name": "ipython",
    "version": 3
   },
   "file_extension": ".py",
   "mimetype": "text/x-python",
   "name": "python",
   "nbconvert_exporter": "python",
   "pygments_lexer": "ipython3",
   "version": "3.12.7"
  }
 },
 "nbformat": 4,
 "nbformat_minor": 5
}
